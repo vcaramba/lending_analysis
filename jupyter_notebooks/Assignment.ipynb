{
 "cells": [
  {
   "cell_type": "code",
   "execution_count": 63,
   "id": "a99a7a5b",
   "metadata": {},
   "outputs": [
    {
     "data": {
      "text/html": [
       "<div>\n",
       "<style scoped>\n",
       "    .dataframe tbody tr th:only-of-type {\n",
       "        vertical-align: middle;\n",
       "    }\n",
       "\n",
       "    .dataframe tbody tr th {\n",
       "        vertical-align: top;\n",
       "    }\n",
       "\n",
       "    .dataframe thead th {\n",
       "        text-align: right;\n",
       "    }\n",
       "</style>\n",
       "<table border=\"1\" class=\"dataframe\">\n",
       "  <thead>\n",
       "    <tr style=\"text-align: right;\">\n",
       "      <th></th>\n",
       "      <th>loan_id</th>\n",
       "      <th>loan_created_on</th>\n",
       "      <th>loan_amount</th>\n",
       "      <th>loan_term</th>\n",
       "      <th>loan_due</th>\n",
       "      <th>loan_paid</th>\n",
       "      <th>loan_paid_on</th>\n",
       "      <th>loan_issued</th>\n",
       "      <th>client_id</th>\n",
       "      <th>client_birth_date</th>\n",
       "      <th>client_income</th>\n",
       "      <th>client_expenses</th>\n",
       "      <th>client_liabilities</th>\n",
       "      <th>client_debt</th>\n",
       "      <th>loan_is_matured</th>\n",
       "      <th>loan_fully_paid</th>\n",
       "      <th>number_of_previous_loans</th>\n",
       "    </tr>\n",
       "  </thead>\n",
       "  <tbody>\n",
       "    <tr>\n",
       "      <th>0</th>\n",
       "      <td>1</td>\n",
       "      <td>6/15/2019</td>\n",
       "      <td>900</td>\n",
       "      <td>69</td>\n",
       "      <td>1183</td>\n",
       "      <td>1183.0</td>\n",
       "      <td>8/23/2019</td>\n",
       "      <td>1</td>\n",
       "      <td>1</td>\n",
       "      <td>12/31/1981</td>\n",
       "      <td>1150</td>\n",
       "      <td>595</td>\n",
       "      <td>0</td>\n",
       "      <td>0</td>\n",
       "      <td>True</td>\n",
       "      <td>1</td>\n",
       "      <td>0</td>\n",
       "    </tr>\n",
       "    <tr>\n",
       "      <th>1</th>\n",
       "      <td>2</td>\n",
       "      <td>5/23/2019</td>\n",
       "      <td>700</td>\n",
       "      <td>90</td>\n",
       "      <td>935</td>\n",
       "      <td>935.0</td>\n",
       "      <td>8/21/2019</td>\n",
       "      <td>1</td>\n",
       "      <td>2</td>\n",
       "      <td>9/10/1998</td>\n",
       "      <td>658</td>\n",
       "      <td>556</td>\n",
       "      <td>0</td>\n",
       "      <td>837</td>\n",
       "      <td>True</td>\n",
       "      <td>1</td>\n",
       "      <td>0</td>\n",
       "    </tr>\n",
       "    <tr>\n",
       "      <th>2</th>\n",
       "      <td>6</td>\n",
       "      <td>5/29/2019</td>\n",
       "      <td>1100</td>\n",
       "      <td>30</td>\n",
       "      <td>1407</td>\n",
       "      <td>1407.0</td>\n",
       "      <td>6/28/2019</td>\n",
       "      <td>1</td>\n",
       "      <td>6</td>\n",
       "      <td>1/30/1973</td>\n",
       "      <td>2301</td>\n",
       "      <td>857</td>\n",
       "      <td>1616</td>\n",
       "      <td>50</td>\n",
       "      <td>True</td>\n",
       "      <td>1</td>\n",
       "      <td>0</td>\n",
       "    </tr>\n",
       "    <tr>\n",
       "      <th>3</th>\n",
       "      <td>7</td>\n",
       "      <td>6/2/2019</td>\n",
       "      <td>1500</td>\n",
       "      <td>24</td>\n",
       "      <td>1834</td>\n",
       "      <td>NaN</td>\n",
       "      <td>NaN</td>\n",
       "      <td>1</td>\n",
       "      <td>7</td>\n",
       "      <td>11/22/1986</td>\n",
       "      <td>1494</td>\n",
       "      <td>751</td>\n",
       "      <td>2738</td>\n",
       "      <td>0</td>\n",
       "      <td>True</td>\n",
       "      <td>0</td>\n",
       "      <td>0</td>\n",
       "    </tr>\n",
       "    <tr>\n",
       "      <th>4</th>\n",
       "      <td>8</td>\n",
       "      <td>5/24/2019</td>\n",
       "      <td>200</td>\n",
       "      <td>30</td>\n",
       "      <td>256</td>\n",
       "      <td>256.0</td>\n",
       "      <td>6/23/2019</td>\n",
       "      <td>1</td>\n",
       "      <td>8</td>\n",
       "      <td>11/13/1986</td>\n",
       "      <td>3196</td>\n",
       "      <td>208</td>\n",
       "      <td>0</td>\n",
       "      <td>0</td>\n",
       "      <td>True</td>\n",
       "      <td>1</td>\n",
       "      <td>0</td>\n",
       "    </tr>\n",
       "  </tbody>\n",
       "</table>\n",
       "</div>"
      ],
      "text/plain": [
       "   loan_id loan_created_on  loan_amount  loan_term  loan_due  loan_paid  \\\n",
       "0        1       6/15/2019          900         69      1183     1183.0   \n",
       "1        2       5/23/2019          700         90       935      935.0   \n",
       "2        6       5/29/2019         1100         30      1407     1407.0   \n",
       "3        7        6/2/2019         1500         24      1834        NaN   \n",
       "4        8       5/24/2019          200         30       256      256.0   \n",
       "\n",
       "  loan_paid_on  loan_issued  client_id client_birth_date  client_income  \\\n",
       "0    8/23/2019            1          1        12/31/1981           1150   \n",
       "1    8/21/2019            1          2         9/10/1998            658   \n",
       "2    6/28/2019            1          6         1/30/1973           2301   \n",
       "3          NaN            1          7        11/22/1986           1494   \n",
       "4    6/23/2019            1          8        11/13/1986           3196   \n",
       "\n",
       "   client_expenses  client_liabilities  client_debt  loan_is_matured  \\\n",
       "0              595                   0            0             True   \n",
       "1              556                   0          837             True   \n",
       "2              857                1616           50             True   \n",
       "3              751                2738            0             True   \n",
       "4              208                   0            0             True   \n",
       "\n",
       "   loan_fully_paid  number_of_previous_loans  \n",
       "0                1                         0  \n",
       "1                1                         0  \n",
       "2                1                         0  \n",
       "3                0                         0  \n",
       "4                1                         0  "
      ]
     },
     "execution_count": 63,
     "metadata": {},
     "output_type": "execute_result"
    }
   ],
   "source": [
    "import pandas as pd\n",
    "\n",
    "train_df = pd.read_csv(\"../data/test_task_training_dataset.csv\", index_col=0)\n",
    "hold_out_df = pd.read_csv(\"../data/test_task_live_dataset.csv\", index_col=0)\n",
    "dataset = pd.read_excel(\"../data/test_task_dataset.xlsx\")\n",
    "\n",
    "train_df.head()"
   ]
  },
  {
   "cell_type": "code",
   "execution_count": 3,
   "id": "79df4913",
   "metadata": {},
   "outputs": [
    {
     "data": {
      "text/plain": [
       "(62952, 17)"
      ]
     },
     "execution_count": 3,
     "metadata": {},
     "output_type": "execute_result"
    }
   ],
   "source": [
    "train_df.shape"
   ]
  },
  {
   "cell_type": "code",
   "execution_count": 4,
   "id": "7b3d29f5",
   "metadata": {},
   "outputs": [
    {
     "data": {
      "text/plain": [
       "array([1])"
      ]
     },
     "execution_count": 4,
     "metadata": {},
     "output_type": "execute_result"
    }
   ],
   "source": [
    "train_df.loan_issued.unique()"
   ]
  },
  {
   "cell_type": "code",
   "execution_count": 4,
   "id": "9b1fc917",
   "metadata": {},
   "outputs": [
    {
     "data": {
      "text/html": [
       "<div>\n",
       "<style scoped>\n",
       "    .dataframe tbody tr th:only-of-type {\n",
       "        vertical-align: middle;\n",
       "    }\n",
       "\n",
       "    .dataframe tbody tr th {\n",
       "        vertical-align: top;\n",
       "    }\n",
       "\n",
       "    .dataframe thead th {\n",
       "        text-align: right;\n",
       "    }\n",
       "</style>\n",
       "<table border=\"1\" class=\"dataframe\">\n",
       "  <thead>\n",
       "    <tr style=\"text-align: right;\">\n",
       "      <th></th>\n",
       "      <th>loan_id</th>\n",
       "      <th>loan_created_on</th>\n",
       "      <th>loan_amount</th>\n",
       "      <th>loan_term</th>\n",
       "      <th>loan_due</th>\n",
       "      <th>loan_issued</th>\n",
       "      <th>client_id</th>\n",
       "      <th>client_birth_date</th>\n",
       "      <th>client_income</th>\n",
       "      <th>client_expenses</th>\n",
       "      <th>client_liabilities</th>\n",
       "      <th>client_debt</th>\n",
       "      <th>number_of_previous_loans</th>\n",
       "    </tr>\n",
       "  </thead>\n",
       "  <tbody>\n",
       "    <tr>\n",
       "      <th>0</th>\n",
       "      <td>99452</td>\n",
       "      <td>2/21/2021</td>\n",
       "      <td>1500</td>\n",
       "      <td>22</td>\n",
       "      <td>1807</td>\n",
       "      <td>1</td>\n",
       "      <td>65652</td>\n",
       "      <td>9/24/1980</td>\n",
       "      <td>3934</td>\n",
       "      <td>795</td>\n",
       "      <td>50</td>\n",
       "      <td>0</td>\n",
       "      <td>0</td>\n",
       "    </tr>\n",
       "    <tr>\n",
       "      <th>1</th>\n",
       "      <td>99454</td>\n",
       "      <td>2/6/2021</td>\n",
       "      <td>800</td>\n",
       "      <td>30</td>\n",
       "      <td>1023</td>\n",
       "      <td>1</td>\n",
       "      <td>65654</td>\n",
       "      <td>5/22/2001</td>\n",
       "      <td>2047</td>\n",
       "      <td>104</td>\n",
       "      <td>0</td>\n",
       "      <td>0</td>\n",
       "      <td>0</td>\n",
       "    </tr>\n",
       "    <tr>\n",
       "      <th>2</th>\n",
       "      <td>99460</td>\n",
       "      <td>2/12/2021</td>\n",
       "      <td>1100</td>\n",
       "      <td>28</td>\n",
       "      <td>1386</td>\n",
       "      <td>1</td>\n",
       "      <td>65660</td>\n",
       "      <td>8/31/1983</td>\n",
       "      <td>6469</td>\n",
       "      <td>109</td>\n",
       "      <td>50</td>\n",
       "      <td>0</td>\n",
       "      <td>0</td>\n",
       "    </tr>\n",
       "    <tr>\n",
       "      <th>3</th>\n",
       "      <td>99461</td>\n",
       "      <td>3/3/2021</td>\n",
       "      <td>900</td>\n",
       "      <td>22</td>\n",
       "      <td>1084</td>\n",
       "      <td>1</td>\n",
       "      <td>65661</td>\n",
       "      <td>7/28/1993</td>\n",
       "      <td>2367</td>\n",
       "      <td>1243</td>\n",
       "      <td>0</td>\n",
       "      <td>0</td>\n",
       "      <td>0</td>\n",
       "    </tr>\n",
       "    <tr>\n",
       "      <th>4</th>\n",
       "      <td>99462</td>\n",
       "      <td>3/5/2021</td>\n",
       "      <td>1600</td>\n",
       "      <td>24</td>\n",
       "      <td>1956</td>\n",
       "      <td>1</td>\n",
       "      <td>65662</td>\n",
       "      <td>10/17/1978</td>\n",
       "      <td>12942</td>\n",
       "      <td>18</td>\n",
       "      <td>50</td>\n",
       "      <td>0</td>\n",
       "      <td>0</td>\n",
       "    </tr>\n",
       "  </tbody>\n",
       "</table>\n",
       "</div>"
      ],
      "text/plain": [
       "   loan_id loan_created_on  loan_amount  loan_term  loan_due  loan_issued  \\\n",
       "0    99452       2/21/2021         1500         22      1807            1   \n",
       "1    99454        2/6/2021          800         30      1023            1   \n",
       "2    99460       2/12/2021         1100         28      1386            1   \n",
       "3    99461        3/3/2021          900         22      1084            1   \n",
       "4    99462        3/5/2021         1600         24      1956            1   \n",
       "\n",
       "   client_id client_birth_date  client_income  client_expenses  \\\n",
       "0      65652         9/24/1980           3934              795   \n",
       "1      65654         5/22/2001           2047              104   \n",
       "2      65660         8/31/1983           6469              109   \n",
       "3      65661         7/28/1993           2367             1243   \n",
       "4      65662        10/17/1978          12942               18   \n",
       "\n",
       "   client_liabilities  client_debt  number_of_previous_loans  \n",
       "0                  50            0                         0  \n",
       "1                   0            0                         0  \n",
       "2                  50            0                         0  \n",
       "3                   0            0                         0  \n",
       "4                  50            0                         0  "
      ]
     },
     "execution_count": 4,
     "metadata": {},
     "output_type": "execute_result"
    }
   ],
   "source": [
    "hold_out_df.head()"
   ]
  },
  {
   "cell_type": "code",
   "execution_count": 5,
   "id": "26c978c2",
   "metadata": {},
   "outputs": [
    {
     "data": {
      "text/plain": [
       "(10730, 13)"
      ]
     },
     "execution_count": 5,
     "metadata": {},
     "output_type": "execute_result"
    }
   ],
   "source": [
    "hold_out_df.shape"
   ]
  },
  {
   "cell_type": "code",
   "execution_count": 6,
   "id": "da12278e",
   "metadata": {},
   "outputs": [
    {
     "data": {
      "text/plain": [
       "array([1])"
      ]
     },
     "execution_count": 6,
     "metadata": {},
     "output_type": "execute_result"
    }
   ],
   "source": [
    "hold_out_df.loan_issued.unique()"
   ]
  },
  {
   "cell_type": "code",
   "execution_count": 7,
   "id": "be7e2a16",
   "metadata": {},
   "outputs": [
    {
     "data": {
      "text/plain": [
       "['loan_fully_paid', 'loan_paid_on', 'loan_is_matured', 'loan_paid']"
      ]
     },
     "execution_count": 7,
     "metadata": {},
     "output_type": "execute_result"
    }
   ],
   "source": [
    "list(set(train_df.columns) - set(hold_out_df.columns))"
   ]
  },
  {
   "cell_type": "code",
   "execution_count": 8,
   "id": "2c08e8d4",
   "metadata": {},
   "outputs": [
    {
     "data": {
      "text/html": [
       "<div>\n",
       "<style scoped>\n",
       "    .dataframe tbody tr th:only-of-type {\n",
       "        vertical-align: middle;\n",
       "    }\n",
       "\n",
       "    .dataframe tbody tr th {\n",
       "        vertical-align: top;\n",
       "    }\n",
       "\n",
       "    .dataframe thead th {\n",
       "        text-align: right;\n",
       "    }\n",
       "</style>\n",
       "<table border=\"1\" class=\"dataframe\">\n",
       "  <thead>\n",
       "    <tr style=\"text-align: right;\">\n",
       "      <th></th>\n",
       "      <th>loan_id</th>\n",
       "      <th>unique ID of loan application. If issued, then also represents a unique ID of a loan.</th>\n",
       "    </tr>\n",
       "  </thead>\n",
       "  <tbody>\n",
       "    <tr>\n",
       "      <th>0</th>\n",
       "      <td>created_on</td>\n",
       "      <td>date on which loan application was created. I...</td>\n",
       "    </tr>\n",
       "    <tr>\n",
       "      <th>1</th>\n",
       "      <td>loan_amount</td>\n",
       "      <td>loan amount requested by the client. If issue...</td>\n",
       "    </tr>\n",
       "    <tr>\n",
       "      <th>2</th>\n",
       "      <td>loan_term</td>\n",
       "      <td>loan term (in days) requested by the client. ...</td>\n",
       "    </tr>\n",
       "    <tr>\n",
       "      <th>3</th>\n",
       "      <td>loan_due</td>\n",
       "      <td>total amount that client is expected to repay...</td>\n",
       "    </tr>\n",
       "    <tr>\n",
       "      <th>4</th>\n",
       "      <td>loan_paid</td>\n",
       "      <td>total amount repaid by the client for this loan.</td>\n",
       "    </tr>\n",
       "    <tr>\n",
       "      <th>5</th>\n",
       "      <td>loan_paid_on</td>\n",
       "      <td>date on which client made a repayment.</td>\n",
       "    </tr>\n",
       "    <tr>\n",
       "      <th>6</th>\n",
       "      <td>loan_issued</td>\n",
       "      <td>1 if this loan was issued to the client, 0 ot...</td>\n",
       "    </tr>\n",
       "    <tr>\n",
       "      <th>7</th>\n",
       "      <td>client_id</td>\n",
       "      <td>unique ID of client.</td>\n",
       "    </tr>\n",
       "    <tr>\n",
       "      <th>8</th>\n",
       "      <td>client_birth_date</td>\n",
       "      <td>client's birth date.</td>\n",
       "    </tr>\n",
       "    <tr>\n",
       "      <th>9</th>\n",
       "      <td>client_income</td>\n",
       "      <td>client's verified monthly net income at the m...</td>\n",
       "    </tr>\n",
       "    <tr>\n",
       "      <th>10</th>\n",
       "      <td>client_expenses</td>\n",
       "      <td>client's verified monthly living expenses at ...</td>\n",
       "    </tr>\n",
       "    <tr>\n",
       "      <th>11</th>\n",
       "      <td>cleint_liabilities</td>\n",
       "      <td>client's verified loan burden with other cred...</td>\n",
       "    </tr>\n",
       "    <tr>\n",
       "      <th>12</th>\n",
       "      <td>loan_is_matured</td>\n",
       "      <td>1 if loan term has been fully passed and total...</td>\n",
       "    </tr>\n",
       "    <tr>\n",
       "      <th>13</th>\n",
       "      <td>client_debt</td>\n",
       "      <td>client's outstanding overdue debt amount with...</td>\n",
       "    </tr>\n",
       "    <tr>\n",
       "      <th>14</th>\n",
       "      <td>loan_fully_paid</td>\n",
       "      <td>1 if loan_paid/loan_due &gt;= 1, otherwise 0</td>\n",
       "    </tr>\n",
       "    <tr>\n",
       "      <th>15</th>\n",
       "      <td>number_of_previous_loans</td>\n",
       "      <td>Count of previous loans the client has taken w...</td>\n",
       "    </tr>\n",
       "  </tbody>\n",
       "</table>\n",
       "</div>"
      ],
      "text/plain": [
       "                    loan_id   \\\n",
       "0                created_on    \n",
       "1               loan_amount    \n",
       "2                 loan_term    \n",
       "3                  loan_due    \n",
       "4                 loan_paid    \n",
       "5              loan_paid_on    \n",
       "6               loan_issued    \n",
       "7                 client_id    \n",
       "8         client_birth_date    \n",
       "9             client_income    \n",
       "10          client_expenses    \n",
       "11       cleint_liabilities    \n",
       "12           loan_is_matured   \n",
       "13              client_debt    \n",
       "14           loan_fully_paid   \n",
       "15  number_of_previous_loans   \n",
       "\n",
       "    unique ID of loan application. If issued, then also represents a unique ID of a loan.  \n",
       "0    date on which loan application was created. I...                                      \n",
       "1    loan amount requested by the client. If issue...                                      \n",
       "2    loan term (in days) requested by the client. ...                                      \n",
       "3    total amount that client is expected to repay...                                      \n",
       "4    total amount repaid by the client for this loan.                                      \n",
       "5              date on which client made a repayment.                                      \n",
       "6    1 if this loan was issued to the client, 0 ot...                                      \n",
       "7                                unique ID of client.                                      \n",
       "8                                client's birth date.                                      \n",
       "9    client's verified monthly net income at the m...                                      \n",
       "10   client's verified monthly living expenses at ...                                      \n",
       "11   client's verified loan burden with other cred...                                      \n",
       "12  1 if loan term has been fully passed and total...                                      \n",
       "13   client's outstanding overdue debt amount with...                                      \n",
       "14          1 if loan_paid/loan_due >= 1, otherwise 0                                      \n",
       "15  Count of previous loans the client has taken w...                                      "
      ]
     },
     "execution_count": 8,
     "metadata": {},
     "output_type": "execute_result"
    }
   ],
   "source": [
    "dataset"
   ]
  },
  {
   "cell_type": "markdown",
   "id": "8f257f7f",
   "metadata": {},
   "source": [
    "# Part 1. Dataset exploration and developing hypotheses"
   ]
  },
  {
   "cell_type": "markdown",
   "id": "10b5b656",
   "metadata": {},
   "source": [
    "Value to predict: loan_fully_paid.\n",
    "- The 'loan_fully_paid' flag is measured based on the following condition: **1 if loan_paid/loan_due >= 1, otherwise 0**\n",
    "### a.1) Variables that can be safely used for credit scoring\n",
    "- client_birth_date and created_on - for calculating the age of the client and filtering out observations with underage clients\n",
    "- loan_amount\n",
    "- loan_term\n",
    "- loan_due\n",
    "- client_income\n",
    "- client_expenses \n",
    "- client_liabilities\n",
    "- client_income\n",
    "- client_debt\n",
    "- number_of_previous_loans\n",
    "\n",
    "### a.2) Variables that leak data about the client performance past when the final underwriting decision would be made.\n",
    "- Columns **'loan_paid'**, **'loan_paid_on'** shouldn't be taken into consideration while training the model, as those values would be unknown in real environment and they are related to the **'loan_fully_paid'** feature (feature to predict). These variables should be calculated based on the client behaviour after the final decision is made (whether the loan is issued to the client or not).\n",
    "- Column **'loan_issued'** in reality would be unknown and affected by the final decision would be made based on credit risk evaluation. For example, the decision whether the loan should be issued to the client or not might depend on the prediction of the feature that represents whether the loan would be fully paid or not. Current training and testing datasets have all customers with loan earlier issued.\n",
    "- Column **'loan_is_matured'** also leaks the performance that is past the final decision made whether to issue the loan to a client or not.\n",
    "### a.3) What clients should be filtered from the dataset?\n",
    "- Clients whose age at the date of submitting the loan application is less than 18 years.\n",
    "\n",
    "### b) Variables that are expected to be useful\n",
    "- loan_amount\n",
    "- loan_term\n",
    "- loan_due\n",
    "- client_income\n",
    "- client_expenses \n",
    "- client_liabilities\n",
    "- client_income\n",
    "- client_debt\n",
    "- number_of_previous_loans\n",
    "- age calculated as the difference in years between the client_birth_date and created_on features\n",
    "\n",
    "### c) What other variables / client information would have been interesting to see and you would have liked to have been added to the dataset?\n",
    "- Number of applications currently submitted by the client\n",
    "- Information regarding the client citizenship and residence for filtering out clients based on regulations\n",
    "- Number of previous defaults in this institution\n",
    "- Employment status\n",
    "- Is a client currently on probation period at work or not? Might be suitable for issuing loan with bigger amounts\n",
    "- Number of previous loans issued by other instituations (if access to this data is available)\n",
    "- Number of previous defaults in other institutions (if access to this data is available)\n",
    "- Purpose of the requested loan (how would the client like to spend this money?)\n",
    "- Purposes of previous requested loans\n",
    "- Gender\n",
    "- Marital status"
   ]
  },
  {
   "cell_type": "markdown",
   "id": "e6e11162",
   "metadata": {},
   "source": [
    "# Part 2. Model for credit risk assessment"
   ]
  },
  {
   "cell_type": "code",
   "execution_count": 9,
   "id": "20920035",
   "metadata": {},
   "outputs": [
    {
     "data": {
      "text/html": [
       "<div>\n",
       "<style scoped>\n",
       "    .dataframe tbody tr th:only-of-type {\n",
       "        vertical-align: middle;\n",
       "    }\n",
       "\n",
       "    .dataframe tbody tr th {\n",
       "        vertical-align: top;\n",
       "    }\n",
       "\n",
       "    .dataframe thead th {\n",
       "        text-align: right;\n",
       "    }\n",
       "</style>\n",
       "<table border=\"1\" class=\"dataframe\">\n",
       "  <thead>\n",
       "    <tr style=\"text-align: right;\">\n",
       "      <th></th>\n",
       "      <th>loan_id</th>\n",
       "      <th>loan_amount</th>\n",
       "      <th>loan_term</th>\n",
       "      <th>loan_due</th>\n",
       "      <th>loan_paid</th>\n",
       "      <th>loan_issued</th>\n",
       "      <th>client_id</th>\n",
       "      <th>client_income</th>\n",
       "      <th>client_expenses</th>\n",
       "      <th>client_liabilities</th>\n",
       "      <th>client_debt</th>\n",
       "      <th>loan_fully_paid</th>\n",
       "      <th>number_of_previous_loans</th>\n",
       "    </tr>\n",
       "  </thead>\n",
       "  <tbody>\n",
       "    <tr>\n",
       "      <th>count</th>\n",
       "      <td>62952.000000</td>\n",
       "      <td>62952.000000</td>\n",
       "      <td>62952.000000</td>\n",
       "      <td>62952.000000</td>\n",
       "      <td>53333.000000</td>\n",
       "      <td>62952.0</td>\n",
       "      <td>62952.000000</td>\n",
       "      <td>62952.000000</td>\n",
       "      <td>62952.000000</td>\n",
       "      <td>62952.000000</td>\n",
       "      <td>62952.000000</td>\n",
       "      <td>62952.000000</td>\n",
       "      <td>62952.000000</td>\n",
       "    </tr>\n",
       "    <tr>\n",
       "      <th>mean</th>\n",
       "      <td>51001.340529</td>\n",
       "      <td>1127.792604</td>\n",
       "      <td>43.653911</td>\n",
       "      <td>1445.927024</td>\n",
       "      <td>1417.606968</td>\n",
       "      <td>1.0</td>\n",
       "      <td>29092.998173</td>\n",
       "      <td>3026.524701</td>\n",
       "      <td>638.005703</td>\n",
       "      <td>185.678183</td>\n",
       "      <td>2250.456364</td>\n",
       "      <td>0.847201</td>\n",
       "      <td>0.595819</td>\n",
       "    </tr>\n",
       "    <tr>\n",
       "      <th>std</th>\n",
       "      <td>28630.753764</td>\n",
       "      <td>740.854810</td>\n",
       "      <td>26.114295</td>\n",
       "      <td>965.540929</td>\n",
       "      <td>964.017991</td>\n",
       "      <td>0.0</td>\n",
       "      <td>17984.749660</td>\n",
       "      <td>1955.224262</td>\n",
       "      <td>676.195292</td>\n",
       "      <td>488.275787</td>\n",
       "      <td>13729.679686</td>\n",
       "      <td>0.359796</td>\n",
       "      <td>1.041955</td>\n",
       "    </tr>\n",
       "    <tr>\n",
       "      <th>min</th>\n",
       "      <td>1.000000</td>\n",
       "      <td>100.000000</td>\n",
       "      <td>5.000000</td>\n",
       "      <td>105.000000</td>\n",
       "      <td>105.000000</td>\n",
       "      <td>1.0</td>\n",
       "      <td>1.000000</td>\n",
       "      <td>13.000000</td>\n",
       "      <td>0.000000</td>\n",
       "      <td>0.000000</td>\n",
       "      <td>0.000000</td>\n",
       "      <td>0.000000</td>\n",
       "      <td>0.000000</td>\n",
       "    </tr>\n",
       "    <tr>\n",
       "      <th>25%</th>\n",
       "      <td>26296.750000</td>\n",
       "      <td>600.000000</td>\n",
       "      <td>27.000000</td>\n",
       "      <td>767.000000</td>\n",
       "      <td>668.000000</td>\n",
       "      <td>1.0</td>\n",
       "      <td>13964.000000</td>\n",
       "      <td>1612.000000</td>\n",
       "      <td>162.000000</td>\n",
       "      <td>0.000000</td>\n",
       "      <td>0.000000</td>\n",
       "      <td>1.000000</td>\n",
       "      <td>0.000000</td>\n",
       "    </tr>\n",
       "    <tr>\n",
       "      <th>50%</th>\n",
       "      <td>51298.000000</td>\n",
       "      <td>1000.000000</td>\n",
       "      <td>30.000000</td>\n",
       "      <td>1269.000000</td>\n",
       "      <td>1251.000000</td>\n",
       "      <td>1.0</td>\n",
       "      <td>27907.500000</td>\n",
       "      <td>2605.000000</td>\n",
       "      <td>423.000000</td>\n",
       "      <td>0.000000</td>\n",
       "      <td>0.000000</td>\n",
       "      <td>1.000000</td>\n",
       "      <td>0.000000</td>\n",
       "    </tr>\n",
       "    <tr>\n",
       "      <th>75%</th>\n",
       "      <td>76038.250000</td>\n",
       "      <td>1500.000000</td>\n",
       "      <td>74.000000</td>\n",
       "      <td>1903.000000</td>\n",
       "      <td>1876.000000</td>\n",
       "      <td>1.0</td>\n",
       "      <td>43529.500000</td>\n",
       "      <td>3977.000000</td>\n",
       "      <td>882.000000</td>\n",
       "      <td>88.000000</td>\n",
       "      <td>50.000000</td>\n",
       "      <td>1.000000</td>\n",
       "      <td>1.000000</td>\n",
       "    </tr>\n",
       "    <tr>\n",
       "      <th>max</th>\n",
       "      <td>99451.000000</td>\n",
       "      <td>5000.000000</td>\n",
       "      <td>90.000000</td>\n",
       "      <td>6682.000000</td>\n",
       "      <td>7962.000000</td>\n",
       "      <td>1.0</td>\n",
       "      <td>65650.000000</td>\n",
       "      <td>19516.000000</td>\n",
       "      <td>8218.000000</td>\n",
       "      <td>14260.000000</td>\n",
       "      <td>450626.000000</td>\n",
       "      <td>1.000000</td>\n",
       "      <td>11.000000</td>\n",
       "    </tr>\n",
       "  </tbody>\n",
       "</table>\n",
       "</div>"
      ],
      "text/plain": [
       "            loan_id   loan_amount     loan_term      loan_due     loan_paid  \\\n",
       "count  62952.000000  62952.000000  62952.000000  62952.000000  53333.000000   \n",
       "mean   51001.340529   1127.792604     43.653911   1445.927024   1417.606968   \n",
       "std    28630.753764    740.854810     26.114295    965.540929    964.017991   \n",
       "min        1.000000    100.000000      5.000000    105.000000    105.000000   \n",
       "25%    26296.750000    600.000000     27.000000    767.000000    668.000000   \n",
       "50%    51298.000000   1000.000000     30.000000   1269.000000   1251.000000   \n",
       "75%    76038.250000   1500.000000     74.000000   1903.000000   1876.000000   \n",
       "max    99451.000000   5000.000000     90.000000   6682.000000   7962.000000   \n",
       "\n",
       "       loan_issued     client_id  client_income  client_expenses  \\\n",
       "count      62952.0  62952.000000   62952.000000     62952.000000   \n",
       "mean           1.0  29092.998173    3026.524701       638.005703   \n",
       "std            0.0  17984.749660    1955.224262       676.195292   \n",
       "min            1.0      1.000000      13.000000         0.000000   \n",
       "25%            1.0  13964.000000    1612.000000       162.000000   \n",
       "50%            1.0  27907.500000    2605.000000       423.000000   \n",
       "75%            1.0  43529.500000    3977.000000       882.000000   \n",
       "max            1.0  65650.000000   19516.000000      8218.000000   \n",
       "\n",
       "       client_liabilities    client_debt  loan_fully_paid  \\\n",
       "count        62952.000000   62952.000000     62952.000000   \n",
       "mean           185.678183    2250.456364         0.847201   \n",
       "std            488.275787   13729.679686         0.359796   \n",
       "min              0.000000       0.000000         0.000000   \n",
       "25%              0.000000       0.000000         1.000000   \n",
       "50%              0.000000       0.000000         1.000000   \n",
       "75%             88.000000      50.000000         1.000000   \n",
       "max          14260.000000  450626.000000         1.000000   \n",
       "\n",
       "       number_of_previous_loans  \n",
       "count              62952.000000  \n",
       "mean                   0.595819  \n",
       "std                    1.041955  \n",
       "min                    0.000000  \n",
       "25%                    0.000000  \n",
       "50%                    0.000000  \n",
       "75%                    1.000000  \n",
       "max                   11.000000  "
      ]
     },
     "execution_count": 9,
     "metadata": {},
     "output_type": "execute_result"
    }
   ],
   "source": [
    "train_df.describe()"
   ]
  },
  {
   "cell_type": "code",
   "execution_count": 64,
   "id": "18d6980f",
   "metadata": {},
   "outputs": [
    {
     "data": {
      "text/html": [
       "<div>\n",
       "<style scoped>\n",
       "    .dataframe tbody tr th:only-of-type {\n",
       "        vertical-align: middle;\n",
       "    }\n",
       "\n",
       "    .dataframe tbody tr th {\n",
       "        vertical-align: top;\n",
       "    }\n",
       "\n",
       "    .dataframe thead th {\n",
       "        text-align: right;\n",
       "    }\n",
       "</style>\n",
       "<table border=\"1\" class=\"dataframe\">\n",
       "  <thead>\n",
       "    <tr style=\"text-align: right;\">\n",
       "      <th></th>\n",
       "      <th>loan_amount</th>\n",
       "      <th>loan_term</th>\n",
       "      <th>loan_due</th>\n",
       "      <th>client_income</th>\n",
       "      <th>client_expenses</th>\n",
       "      <th>client_liabilities</th>\n",
       "      <th>client_debt</th>\n",
       "      <th>loan_fully_paid</th>\n",
       "      <th>number_of_previous_loans</th>\n",
       "      <th>age</th>\n",
       "    </tr>\n",
       "    <tr>\n",
       "      <th>loan_id</th>\n",
       "      <th></th>\n",
       "      <th></th>\n",
       "      <th></th>\n",
       "      <th></th>\n",
       "      <th></th>\n",
       "      <th></th>\n",
       "      <th></th>\n",
       "      <th></th>\n",
       "      <th></th>\n",
       "      <th></th>\n",
       "    </tr>\n",
       "  </thead>\n",
       "  <tbody>\n",
       "    <tr>\n",
       "      <th>1</th>\n",
       "      <td>900</td>\n",
       "      <td>69</td>\n",
       "      <td>1183</td>\n",
       "      <td>1150</td>\n",
       "      <td>595</td>\n",
       "      <td>0</td>\n",
       "      <td>0</td>\n",
       "      <td>1</td>\n",
       "      <td>0</td>\n",
       "      <td>37.5</td>\n",
       "    </tr>\n",
       "    <tr>\n",
       "      <th>2</th>\n",
       "      <td>700</td>\n",
       "      <td>90</td>\n",
       "      <td>935</td>\n",
       "      <td>658</td>\n",
       "      <td>556</td>\n",
       "      <td>0</td>\n",
       "      <td>837</td>\n",
       "      <td>1</td>\n",
       "      <td>0</td>\n",
       "      <td>20.7</td>\n",
       "    </tr>\n",
       "    <tr>\n",
       "      <th>6</th>\n",
       "      <td>1100</td>\n",
       "      <td>30</td>\n",
       "      <td>1407</td>\n",
       "      <td>2301</td>\n",
       "      <td>857</td>\n",
       "      <td>1616</td>\n",
       "      <td>50</td>\n",
       "      <td>1</td>\n",
       "      <td>0</td>\n",
       "      <td>46.4</td>\n",
       "    </tr>\n",
       "    <tr>\n",
       "      <th>7</th>\n",
       "      <td>1500</td>\n",
       "      <td>24</td>\n",
       "      <td>1834</td>\n",
       "      <td>1494</td>\n",
       "      <td>751</td>\n",
       "      <td>2738</td>\n",
       "      <td>0</td>\n",
       "      <td>0</td>\n",
       "      <td>0</td>\n",
       "      <td>32.5</td>\n",
       "    </tr>\n",
       "    <tr>\n",
       "      <th>8</th>\n",
       "      <td>200</td>\n",
       "      <td>30</td>\n",
       "      <td>256</td>\n",
       "      <td>3196</td>\n",
       "      <td>208</td>\n",
       "      <td>0</td>\n",
       "      <td>0</td>\n",
       "      <td>1</td>\n",
       "      <td>0</td>\n",
       "      <td>32.5</td>\n",
       "    </tr>\n",
       "  </tbody>\n",
       "</table>\n",
       "</div>"
      ],
      "text/plain": [
       "         loan_amount  loan_term  loan_due  client_income  client_expenses  \\\n",
       "loan_id                                                                     \n",
       "1                900         69      1183           1150              595   \n",
       "2                700         90       935            658              556   \n",
       "6               1100         30      1407           2301              857   \n",
       "7               1500         24      1834           1494              751   \n",
       "8                200         30       256           3196              208   \n",
       "\n",
       "         client_liabilities  client_debt  loan_fully_paid  \\\n",
       "loan_id                                                     \n",
       "1                         0            0                1   \n",
       "2                         0          837                1   \n",
       "6                      1616           50                1   \n",
       "7                      2738            0                0   \n",
       "8                         0            0                1   \n",
       "\n",
       "         number_of_previous_loans   age  \n",
       "loan_id                                  \n",
       "1                               0  37.5  \n",
       "2                               0  20.7  \n",
       "6                               0  46.4  \n",
       "7                               0  32.5  \n",
       "8                               0  32.5  "
      ]
     },
     "execution_count": 64,
     "metadata": {},
     "output_type": "execute_result"
    }
   ],
   "source": [
    "def clean_dataset(df):\n",
    "    res = df.copy()\n",
    "    cols_to_drop = ['loan_paid', 'loan_paid_on', 'loan_is_matured']\n",
    "    if set(cols_to_drop).issubset(res.columns):\n",
    "        res = res.drop(cols_to_drop, axis=1)\n",
    "    res['age'] = round((pd.to_datetime(res['loan_created_on']) - pd.to_datetime(res['client_birth_date'])).dt.days / 365, 1)\n",
    "    res = res[res['age'] >= 18]\n",
    "    res.drop(['loan_created_on', 'client_birth_date', 'client_id', 'loan_issued'], axis=1, inplace=True)\n",
    "    res.set_index('loan_id', inplace=True)\n",
    "    return res\n",
    "\n",
    "cleaned_train_df = clean_dataset(train_df)\n",
    "cleaned_train_df.head()"
   ]
  },
  {
   "cell_type": "code",
   "execution_count": 65,
   "id": "fe8b4514",
   "metadata": {},
   "outputs": [
    {
     "data": {
      "text/html": [
       "<div>\n",
       "<style scoped>\n",
       "    .dataframe tbody tr th:only-of-type {\n",
       "        vertical-align: middle;\n",
       "    }\n",
       "\n",
       "    .dataframe tbody tr th {\n",
       "        vertical-align: top;\n",
       "    }\n",
       "\n",
       "    .dataframe thead th {\n",
       "        text-align: right;\n",
       "    }\n",
       "</style>\n",
       "<table border=\"1\" class=\"dataframe\">\n",
       "  <thead>\n",
       "    <tr style=\"text-align: right;\">\n",
       "      <th></th>\n",
       "      <th>loan_amount</th>\n",
       "      <th>loan_term</th>\n",
       "      <th>loan_due</th>\n",
       "      <th>client_income</th>\n",
       "      <th>client_expenses</th>\n",
       "      <th>client_liabilities</th>\n",
       "      <th>client_debt</th>\n",
       "      <th>loan_fully_paid</th>\n",
       "      <th>number_of_previous_loans</th>\n",
       "      <th>age</th>\n",
       "    </tr>\n",
       "  </thead>\n",
       "  <tbody>\n",
       "    <tr>\n",
       "      <th>count</th>\n",
       "      <td>57857.000000</td>\n",
       "      <td>57857.000000</td>\n",
       "      <td>57857.000000</td>\n",
       "      <td>57857.000000</td>\n",
       "      <td>57857.000000</td>\n",
       "      <td>57857.000000</td>\n",
       "      <td>57857.000000</td>\n",
       "      <td>57857.000000</td>\n",
       "      <td>57857.000000</td>\n",
       "      <td>57857.000000</td>\n",
       "    </tr>\n",
       "    <tr>\n",
       "      <th>mean</th>\n",
       "      <td>1147.610488</td>\n",
       "      <td>43.769604</td>\n",
       "      <td>1471.515737</td>\n",
       "      <td>3036.306895</td>\n",
       "      <td>639.934908</td>\n",
       "      <td>187.632473</td>\n",
       "      <td>2241.401231</td>\n",
       "      <td>0.853086</td>\n",
       "      <td>0.631315</td>\n",
       "      <td>33.943896</td>\n",
       "    </tr>\n",
       "    <tr>\n",
       "      <th>std</th>\n",
       "      <td>751.061336</td>\n",
       "      <td>26.164679</td>\n",
       "      <td>978.986398</td>\n",
       "      <td>1962.159030</td>\n",
       "      <td>678.464853</td>\n",
       "      <td>492.084206</td>\n",
       "      <td>13718.279718</td>\n",
       "      <td>0.354023</td>\n",
       "      <td>1.072543</td>\n",
       "      <td>11.049441</td>\n",
       "    </tr>\n",
       "    <tr>\n",
       "      <th>min</th>\n",
       "      <td>100.000000</td>\n",
       "      <td>5.000000</td>\n",
       "      <td>105.000000</td>\n",
       "      <td>13.000000</td>\n",
       "      <td>0.000000</td>\n",
       "      <td>0.000000</td>\n",
       "      <td>0.000000</td>\n",
       "      <td>0.000000</td>\n",
       "      <td>0.000000</td>\n",
       "      <td>18.000000</td>\n",
       "    </tr>\n",
       "    <tr>\n",
       "      <th>25%</th>\n",
       "      <td>700.000000</td>\n",
       "      <td>27.000000</td>\n",
       "      <td>849.000000</td>\n",
       "      <td>1615.000000</td>\n",
       "      <td>161.000000</td>\n",
       "      <td>0.000000</td>\n",
       "      <td>0.000000</td>\n",
       "      <td>1.000000</td>\n",
       "      <td>0.000000</td>\n",
       "      <td>25.600000</td>\n",
       "    </tr>\n",
       "    <tr>\n",
       "      <th>50%</th>\n",
       "      <td>1000.000000</td>\n",
       "      <td>30.000000</td>\n",
       "      <td>1279.000000</td>\n",
       "      <td>2615.000000</td>\n",
       "      <td>424.000000</td>\n",
       "      <td>0.000000</td>\n",
       "      <td>0.000000</td>\n",
       "      <td>1.000000</td>\n",
       "      <td>0.000000</td>\n",
       "      <td>32.100000</td>\n",
       "    </tr>\n",
       "    <tr>\n",
       "      <th>75%</th>\n",
       "      <td>1500.000000</td>\n",
       "      <td>74.000000</td>\n",
       "      <td>1918.000000</td>\n",
       "      <td>3992.000000</td>\n",
       "      <td>886.000000</td>\n",
       "      <td>90.000000</td>\n",
       "      <td>50.000000</td>\n",
       "      <td>1.000000</td>\n",
       "      <td>1.000000</td>\n",
       "      <td>40.400000</td>\n",
       "    </tr>\n",
       "    <tr>\n",
       "      <th>max</th>\n",
       "      <td>5000.000000</td>\n",
       "      <td>90.000000</td>\n",
       "      <td>6682.000000</td>\n",
       "      <td>18244.000000</td>\n",
       "      <td>8218.000000</td>\n",
       "      <td>14260.000000</td>\n",
       "      <td>360131.000000</td>\n",
       "      <td>1.000000</td>\n",
       "      <td>11.000000</td>\n",
       "      <td>98.600000</td>\n",
       "    </tr>\n",
       "  </tbody>\n",
       "</table>\n",
       "</div>"
      ],
      "text/plain": [
       "        loan_amount     loan_term      loan_due  client_income  \\\n",
       "count  57857.000000  57857.000000  57857.000000   57857.000000   \n",
       "mean    1147.610488     43.769604   1471.515737    3036.306895   \n",
       "std      751.061336     26.164679    978.986398    1962.159030   \n",
       "min      100.000000      5.000000    105.000000      13.000000   \n",
       "25%      700.000000     27.000000    849.000000    1615.000000   \n",
       "50%     1000.000000     30.000000   1279.000000    2615.000000   \n",
       "75%     1500.000000     74.000000   1918.000000    3992.000000   \n",
       "max     5000.000000     90.000000   6682.000000   18244.000000   \n",
       "\n",
       "       client_expenses  client_liabilities    client_debt  loan_fully_paid  \\\n",
       "count     57857.000000        57857.000000   57857.000000     57857.000000   \n",
       "mean        639.934908          187.632473    2241.401231         0.853086   \n",
       "std         678.464853          492.084206   13718.279718         0.354023   \n",
       "min           0.000000            0.000000       0.000000         0.000000   \n",
       "25%         161.000000            0.000000       0.000000         1.000000   \n",
       "50%         424.000000            0.000000       0.000000         1.000000   \n",
       "75%         886.000000           90.000000      50.000000         1.000000   \n",
       "max        8218.000000        14260.000000  360131.000000         1.000000   \n",
       "\n",
       "       number_of_previous_loans           age  \n",
       "count              57857.000000  57857.000000  \n",
       "mean                   0.631315     33.943896  \n",
       "std                    1.072543     11.049441  \n",
       "min                    0.000000     18.000000  \n",
       "25%                    0.000000     25.600000  \n",
       "50%                    0.000000     32.100000  \n",
       "75%                    1.000000     40.400000  \n",
       "max                   11.000000     98.600000  "
      ]
     },
     "execution_count": 65,
     "metadata": {},
     "output_type": "execute_result"
    }
   ],
   "source": [
    "cleaned_train_df.describe()"
   ]
  },
  {
   "cell_type": "code",
   "execution_count": 66,
   "id": "a506bdea",
   "metadata": {},
   "outputs": [
    {
     "data": {
      "text/plain": [
       "False"
      ]
     },
     "execution_count": 66,
     "metadata": {},
     "output_type": "execute_result"
    }
   ],
   "source": [
    "cleaned_train_df.duplicated().any()"
   ]
  },
  {
   "cell_type": "code",
   "execution_count": 67,
   "id": "1de928b8",
   "metadata": {},
   "outputs": [
    {
     "data": {
      "text/plain": [
       "62952"
      ]
     },
     "execution_count": 67,
     "metadata": {},
     "output_type": "execute_result"
    }
   ],
   "source": [
    "len(train_df.loan_id.unique())"
   ]
  },
  {
   "cell_type": "code",
   "execution_count": 68,
   "id": "0685ef33",
   "metadata": {},
   "outputs": [
    {
     "data": {
      "text/plain": [
       "(62952, 17)"
      ]
     },
     "execution_count": 68,
     "metadata": {},
     "output_type": "execute_result"
    }
   ],
   "source": [
    "train_df.shape"
   ]
  },
  {
   "cell_type": "code",
   "execution_count": 69,
   "id": "72d69416",
   "metadata": {},
   "outputs": [
    {
     "data": {
      "text/plain": [
       "40638"
      ]
     },
     "execution_count": 69,
     "metadata": {},
     "output_type": "execute_result"
    }
   ],
   "source": [
    "len(train_df.client_id.unique())"
   ]
  },
  {
   "cell_type": "code",
   "execution_count": 70,
   "id": "f743345f",
   "metadata": {},
   "outputs": [
    {
     "data": {
      "text/plain": [
       "loan_amount                 0\n",
       "loan_term                   0\n",
       "loan_due                    0\n",
       "client_income               0\n",
       "client_expenses             0\n",
       "client_liabilities          0\n",
       "client_debt                 0\n",
       "loan_fully_paid             0\n",
       "number_of_previous_loans    0\n",
       "age                         0\n",
       "dtype: int64"
      ]
     },
     "execution_count": 70,
     "metadata": {},
     "output_type": "execute_result"
    }
   ],
   "source": [
    "cleaned_train_df.isna().sum()"
   ]
  },
  {
   "cell_type": "code",
   "execution_count": 71,
   "id": "593b1efa",
   "metadata": {},
   "outputs": [
    {
     "data": {
      "text/plain": [
       "1    49357\n",
       "0     8500\n",
       "Name: loan_fully_paid, dtype: int64"
      ]
     },
     "execution_count": 71,
     "metadata": {},
     "output_type": "execute_result"
    }
   ],
   "source": [
    "cleaned_train_df['loan_fully_paid'].value_counts()"
   ]
  },
  {
   "cell_type": "code",
   "execution_count": 3,
   "id": "bb0a5bc2",
   "metadata": {},
   "outputs": [
    {
     "data": {
      "text/plain": [
       "1    0.853086\n",
       "0    0.146914\n",
       "Name: loan_fully_paid, dtype: float64"
      ]
     },
     "execution_count": 3,
     "metadata": {},
     "output_type": "execute_result"
    }
   ],
   "source": [
    "cleaned_train_df['loan_fully_paid'].value_counts() / float(len(cleaned_train_df))"
   ]
  },
  {
   "cell_type": "code",
   "execution_count": 54,
   "id": "df7a6c95",
   "metadata": {},
   "outputs": [
    {
     "data": {
      "text/plain": [
       "(57857, 10)"
      ]
     },
     "execution_count": 54,
     "metadata": {},
     "output_type": "execute_result"
    }
   ],
   "source": [
    "cleaned_train_df.shape"
   ]
  },
  {
   "cell_type": "markdown",
   "id": "4feae77c",
   "metadata": {},
   "source": [
    "# Model 1: random forest classifier on unbalanced data"
   ]
  },
  {
   "cell_type": "code",
   "execution_count": 28,
   "id": "de2ae33c",
   "metadata": {},
   "outputs": [],
   "source": [
    "from sklearn.model_selection import StratifiedKFold\n",
    "from imblearn.over_sampling import SMOTE\n",
    "from sklearn.model_selection import cross_validate, KFold, StratifiedKFold\n",
    "from sklearn.ensemble import RandomForestClassifier\n",
    "from imblearn.pipeline import Pipeline\n",
    "from sklearn.preprocessing import StandardScaler\n",
    "import numpy as np\n",
    "\n",
    "\n",
    "scaler = StandardScaler()\n",
    "\n",
    "X = cleaned_train_df[cleaned_train_df.columns.difference(['loan_fully_paid'])]\n",
    "y = cleaned_train_df['loan_fully_paid'].values\n",
    "\n",
    "clf = RandomForestClassifier()\n",
    "scoring = ['balanced_accuracy', 'precision_weighted', 'recall_weighted', 'roc_auc', 'f1_weighted']\n",
    "steps = [('transformer', scaler), ('estimator', clf)]\n",
    "pipeline = Pipeline(steps=steps)\n",
    "\n",
    "cv = KFold(n_splits=5)\n",
    "cv_scores = cross_validate(pipeline, X, y, scoring=scoring, cv=cv, return_estimator=True)"
   ]
  },
  {
   "cell_type": "code",
   "execution_count": 31,
   "id": "a188b0cd",
   "metadata": {},
   "outputs": [
    {
     "data": {
      "text/plain": [
       "0.8328513343227716"
      ]
     },
     "execution_count": 31,
     "metadata": {},
     "output_type": "execute_result"
    }
   ],
   "source": [
    "np.mean(cv_scores['test_precision_weighted'])"
   ]
  },
  {
   "cell_type": "code",
   "execution_count": 32,
   "id": "28633c88",
   "metadata": {},
   "outputs": [
    {
     "data": {
      "text/plain": [
       "0.8610029340488305"
      ]
     },
     "execution_count": 32,
     "metadata": {},
     "output_type": "execute_result"
    }
   ],
   "source": [
    "np.mean(cv_scores['test_recall_weighted'])"
   ]
  },
  {
   "cell_type": "code",
   "execution_count": 30,
   "id": "746bd3f4",
   "metadata": {},
   "outputs": [
    {
     "data": {
      "text/plain": [
       "0.5688018650500284"
      ]
     },
     "execution_count": 30,
     "metadata": {},
     "output_type": "execute_result"
    }
   ],
   "source": [
    "np.mean(cv_scores['test_balanced_accuracy'])"
   ]
  },
  {
   "cell_type": "code",
   "execution_count": 29,
   "id": "91e37589",
   "metadata": {},
   "outputs": [
    {
     "data": {
      "text/plain": [
       "0.7310341345780562"
      ]
     },
     "execution_count": 29,
     "metadata": {},
     "output_type": "execute_result"
    }
   ],
   "source": [
    "np.mean(cv_scores['test_roc_auc'])"
   ]
  },
  {
   "cell_type": "code",
   "execution_count": 33,
   "id": "12480fc7",
   "metadata": {},
   "outputs": [
    {
     "data": {
      "text/plain": [
       "0.8238334360698975"
      ]
     },
     "execution_count": 33,
     "metadata": {},
     "output_type": "execute_result"
    }
   ],
   "source": [
    "np.mean(cv_scores['test_f1_weighted'])"
   ]
  },
  {
   "cell_type": "markdown",
   "id": "20cdd7b4",
   "metadata": {},
   "source": [
    "## Model 2: random forest classifier on data over-sampled using SMOTE"
   ]
  },
  {
   "cell_type": "code",
   "execution_count": 56,
   "id": "63fb818b",
   "metadata": {},
   "outputs": [],
   "source": [
    "scaler = StandardScaler()\n",
    "\n",
    "X = cleaned_train_df[cleaned_train_df.columns.difference(['loan_fully_paid'])]\n",
    "y = cleaned_train_df['loan_fully_paid'].values\n",
    "\n",
    "clf = RandomForestClassifier()\n",
    "scoring = ['accuracy', 'precision', 'recall', 'roc_auc', 'f1']\n",
    "steps = [('transformer', scaler), ('over', SMOTE()), ('estimator', clf)]\n",
    "pipeline = Pipeline(steps=steps)\n",
    "\n",
    "cv = KFold(n_splits=5)\n",
    "cv_scores = cross_validate(pipeline, X, y, scoring=scoring, cv=cv, return_estimator=True)"
   ]
  },
  {
   "cell_type": "code",
   "execution_count": 21,
   "id": "170835de",
   "metadata": {},
   "outputs": [
    {
     "data": {
      "text/plain": [
       "0.8834928447452226"
      ]
     },
     "execution_count": 21,
     "metadata": {},
     "output_type": "execute_result"
    }
   ],
   "source": [
    "np.mean(cv_scores['test_precision'])"
   ]
  },
  {
   "cell_type": "code",
   "execution_count": 22,
   "id": "70e7d9e4",
   "metadata": {},
   "outputs": [
    {
     "data": {
      "text/plain": [
       "0.9093770539472977"
      ]
     },
     "execution_count": 22,
     "metadata": {},
     "output_type": "execute_result"
    }
   ],
   "source": [
    "np.mean(cv_scores['test_recall'])"
   ]
  },
  {
   "cell_type": "code",
   "execution_count": 23,
   "id": "b9c23316",
   "metadata": {},
   "outputs": [
    {
     "data": {
      "text/plain": [
       "0.8196601301578081"
      ]
     },
     "execution_count": 23,
     "metadata": {},
     "output_type": "execute_result"
    }
   ],
   "source": [
    "np.mean(cv_scores['test_accuracy'])"
   ]
  },
  {
   "cell_type": "code",
   "execution_count": 19,
   "id": "e40a1466",
   "metadata": {},
   "outputs": [
    {
     "data": {
      "text/plain": [
       "0.7194437773176107"
      ]
     },
     "execution_count": 19,
     "metadata": {},
     "output_type": "execute_result"
    }
   ],
   "source": [
    "np.mean(cv_scores['test_roc_auc'])"
   ]
  },
  {
   "cell_type": "code",
   "execution_count": 20,
   "id": "9a7c2e7d",
   "metadata": {},
   "outputs": [
    {
     "data": {
      "text/plain": [
       "0.8946390541382326"
      ]
     },
     "execution_count": 20,
     "metadata": {},
     "output_type": "execute_result"
    }
   ],
   "source": [
    "np.mean(cv_scores['test_f1'])"
   ]
  },
  {
   "cell_type": "markdown",
   "id": "d79207c6",
   "metadata": {},
   "source": [
    "# Part 3.  Results evaluation\n",
    "1. As it might be seen, the model nr. 1 fitted to the imbalanced data that is strongly skewed towards the default, has a bit low balanced accuracy that does not outperform random guessing (56,88%). However, this model would not misclassify non-default related observations as false positives with 83,28% level of confidence.\n",
    "\n",
    "2. The model nr. 2 that was fitted to the over-sampled data outperforms in terms of accuracy (81,97%), precision, and recall. However, accuracy is not the best metric when dealing with imbalanced data. Interestingly, the AUC is not strongly affected by balancing the data (see 'test_roc_auc' values above). This is the modelthat is used to make predictions on the hold-out dataset. This model is expected to get relatively low number of false positives (precision score 88%). However, over-sampling brings the risk of over-fitting and might lead to the lower predictive performance in production.\n",
    "\n",
    "Note: over-sampling option was chosen because the under-sampling would lead to losing the potentially representative observations."
   ]
  },
  {
   "cell_type": "markdown",
   "id": "8deda878",
   "metadata": {},
   "source": [
    "# Part 4. Prediction on the live dataset\n"
   ]
  },
  {
   "cell_type": "code",
   "execution_count": 72,
   "id": "acaa1ccc",
   "metadata": {},
   "outputs": [
    {
     "data": {
      "text/plain": [
       "False"
      ]
     },
     "execution_count": 72,
     "metadata": {},
     "output_type": "execute_result"
    }
   ],
   "source": [
    "test_df = clean_dataset(hold_out_df)\n",
    "test_df.duplicated().any()"
   ]
  },
  {
   "cell_type": "code",
   "execution_count": 80,
   "id": "fd58659d",
   "metadata": {},
   "outputs": [
    {
     "data": {
      "text/html": [
       "<div>\n",
       "<style scoped>\n",
       "    .dataframe tbody tr th:only-of-type {\n",
       "        vertical-align: middle;\n",
       "    }\n",
       "\n",
       "    .dataframe tbody tr th {\n",
       "        vertical-align: top;\n",
       "    }\n",
       "\n",
       "    .dataframe thead th {\n",
       "        text-align: right;\n",
       "    }\n",
       "</style>\n",
       "<table border=\"1\" class=\"dataframe\">\n",
       "  <thead>\n",
       "    <tr style=\"text-align: right;\">\n",
       "      <th></th>\n",
       "      <th>age</th>\n",
       "      <th>client_debt</th>\n",
       "      <th>client_expenses</th>\n",
       "      <th>client_income</th>\n",
       "      <th>client_liabilities</th>\n",
       "      <th>loan_amount</th>\n",
       "      <th>loan_due</th>\n",
       "      <th>loan_term</th>\n",
       "      <th>number_of_previous_loans</th>\n",
       "    </tr>\n",
       "    <tr>\n",
       "      <th>loan_id</th>\n",
       "      <th></th>\n",
       "      <th></th>\n",
       "      <th></th>\n",
       "      <th></th>\n",
       "      <th></th>\n",
       "      <th></th>\n",
       "      <th></th>\n",
       "      <th></th>\n",
       "      <th></th>\n",
       "    </tr>\n",
       "  </thead>\n",
       "  <tbody>\n",
       "    <tr>\n",
       "      <th>99452</th>\n",
       "      <td>40.4</td>\n",
       "      <td>0</td>\n",
       "      <td>795</td>\n",
       "      <td>3934</td>\n",
       "      <td>50</td>\n",
       "      <td>1500</td>\n",
       "      <td>1807</td>\n",
       "      <td>22</td>\n",
       "      <td>0</td>\n",
       "    </tr>\n",
       "    <tr>\n",
       "      <th>99454</th>\n",
       "      <td>19.7</td>\n",
       "      <td>0</td>\n",
       "      <td>104</td>\n",
       "      <td>2047</td>\n",
       "      <td>0</td>\n",
       "      <td>800</td>\n",
       "      <td>1023</td>\n",
       "      <td>30</td>\n",
       "      <td>0</td>\n",
       "    </tr>\n",
       "    <tr>\n",
       "      <th>99460</th>\n",
       "      <td>37.5</td>\n",
       "      <td>0</td>\n",
       "      <td>109</td>\n",
       "      <td>6469</td>\n",
       "      <td>50</td>\n",
       "      <td>1100</td>\n",
       "      <td>1386</td>\n",
       "      <td>28</td>\n",
       "      <td>0</td>\n",
       "    </tr>\n",
       "    <tr>\n",
       "      <th>99461</th>\n",
       "      <td>27.6</td>\n",
       "      <td>0</td>\n",
       "      <td>1243</td>\n",
       "      <td>2367</td>\n",
       "      <td>0</td>\n",
       "      <td>900</td>\n",
       "      <td>1084</td>\n",
       "      <td>22</td>\n",
       "      <td>0</td>\n",
       "    </tr>\n",
       "    <tr>\n",
       "      <th>99462</th>\n",
       "      <td>42.4</td>\n",
       "      <td>0</td>\n",
       "      <td>18</td>\n",
       "      <td>12942</td>\n",
       "      <td>50</td>\n",
       "      <td>1600</td>\n",
       "      <td>1956</td>\n",
       "      <td>24</td>\n",
       "      <td>0</td>\n",
       "    </tr>\n",
       "  </tbody>\n",
       "</table>\n",
       "</div>"
      ],
      "text/plain": [
       "          age  client_debt  client_expenses  client_income  \\\n",
       "loan_id                                                      \n",
       "99452    40.4            0              795           3934   \n",
       "99454    19.7            0              104           2047   \n",
       "99460    37.5            0              109           6469   \n",
       "99461    27.6            0             1243           2367   \n",
       "99462    42.4            0               18          12942   \n",
       "\n",
       "         client_liabilities  loan_amount  loan_due  loan_term  \\\n",
       "loan_id                                                         \n",
       "99452                    50         1500      1807         22   \n",
       "99454                     0          800      1023         30   \n",
       "99460                    50         1100      1386         28   \n",
       "99461                     0          900      1084         22   \n",
       "99462                    50         1600      1956         24   \n",
       "\n",
       "         number_of_previous_loans  \n",
       "loan_id                            \n",
       "99452                           0  \n",
       "99454                           0  \n",
       "99460                           0  \n",
       "99461                           0  \n",
       "99462                           0  "
      ]
     },
     "execution_count": 80,
     "metadata": {},
     "output_type": "execute_result"
    }
   ],
   "source": [
    "test_df.head()"
   ]
  },
  {
   "cell_type": "code",
   "execution_count": 73,
   "id": "358f140a",
   "metadata": {},
   "outputs": [
    {
     "data": {
      "text/plain": [
       "loan_amount                 0\n",
       "loan_term                   0\n",
       "loan_due                    0\n",
       "client_income               0\n",
       "client_expenses             0\n",
       "client_liabilities          0\n",
       "client_debt                 0\n",
       "number_of_previous_loans    0\n",
       "age                         0\n",
       "dtype: int64"
      ]
     },
     "execution_count": 73,
     "metadata": {},
     "output_type": "execute_result"
    }
   ],
   "source": [
    "test_df.isna().sum()"
   ]
  },
  {
   "cell_type": "code",
   "execution_count": 74,
   "id": "73043a0a",
   "metadata": {},
   "outputs": [
    {
     "data": {
      "text/plain": [
       "(9949, 9)"
      ]
     },
     "execution_count": 74,
     "metadata": {},
     "output_type": "execute_result"
    }
   ],
   "source": [
    "test_df.shape"
   ]
  },
  {
   "cell_type": "code",
   "execution_count": 78,
   "id": "d4b01863",
   "metadata": {},
   "outputs": [],
   "source": [
    "from sklearn.pipeline import Pipeline\n",
    "\n",
    "\n",
    "scaler = StandardScaler()\n",
    "clf = RandomForestClassifier()\n",
    "\n",
    "steps = [('transformer', scaler), ('estimator', clf)]\n",
    "pipeline = Pipeline(steps=steps)\n",
    "\n",
    "\n",
    "pipeline.fit(X, y)\n",
    "test_df = test_df[X.columns.values] #re-arrange the order of columns\n",
    "predictions = pipeline.predict(test_df)\n",
    "pd.DataFrame(predictions).to_csv(\"../data/predictions.csv\")"
   ]
  },
  {
   "cell_type": "code",
   "execution_count": 81,
   "id": "14d7df59",
   "metadata": {},
   "outputs": [
    {
     "data": {
      "text/plain": [
       "1    9591\n",
       "0     358\n",
       "dtype: int64"
      ]
     },
     "execution_count": 81,
     "metadata": {},
     "output_type": "execute_result"
    }
   ],
   "source": [
    "pd.DataFrame(predictions).value_counts()"
   ]
  },
  {
   "cell_type": "markdown",
   "id": "e9ed34fb",
   "metadata": {},
   "source": [
    "# Part 5. Conclusion\n",
    "\n",
    "a) Next steps might include collecting more observations that belong to the default segment (clients who failed to fully pay the loan in time). Moreover, it might be good to keep the client id variable that was not taken into account in this model and aggregate observations that belong to the client with the same id. It might be good to compare several models with the dummy baseline model in terms of AUC, F1 score, precision, and recall. Accuracy metric will be helpful if it is possible to collect balanced dataset. If choose to proceed with imbalanced dataset, then might be possible to combine under-sampling and over-sampling techniques for achieving the better results (as an example, apply under-sampling of the majority class with the target fraction of choice, and after that apply SMOTE or other improved variants of SMOTE). Another aproach that might be used is unsupervised learning based, for example, clustering. Moreover, it might be helpful to check the correlation of variables before building the model.\n",
    "\n",
    "b) The benefit of the current model lies in relatively high distinguishing power of the model. According to cross-validation results on the training data set, current model is able to distinguish default and non-default observations with the probability 72% (see test_ROC_AUC). At the same time, high precision score (88%) indicates that there are less false positives (observations related to loan-fully-paid class detected as defaults) are expected.\n",
    "\n",
    "c) Next steps for implementing this model to improve the business will include improving the quality of the model with the aim to achieve higher predictive power (ROC-AUC results indicate that the model will distinguish defaults with probability around 72%, so this model still needs improvement). One of the approaches is collecting more default-related observations. Another approach might be to engineer more features (possible options mentioned in part 1). Moreover, it might be possible to predict another metric (example: loan_paid_on - the date when the loan would be paid). All experiments and their outputs should be tracked (example: tracked experiments in MLflow with metrics values, logged models, etc.)."
   ]
  },
  {
   "cell_type": "code",
   "execution_count": null,
   "id": "234c4606",
   "metadata": {},
   "outputs": [],
   "source": []
  }
 ],
 "metadata": {
  "kernelspec": {
   "display_name": "Python 3 (ipykernel)",
   "language": "python",
   "name": "python3"
  },
  "language_info": {
   "codemirror_mode": {
    "name": "ipython",
    "version": 3
   },
   "file_extension": ".py",
   "mimetype": "text/x-python",
   "name": "python",
   "nbconvert_exporter": "python",
   "pygments_lexer": "ipython3",
   "version": "3.8.12"
  }
 },
 "nbformat": 4,
 "nbformat_minor": 5
}
